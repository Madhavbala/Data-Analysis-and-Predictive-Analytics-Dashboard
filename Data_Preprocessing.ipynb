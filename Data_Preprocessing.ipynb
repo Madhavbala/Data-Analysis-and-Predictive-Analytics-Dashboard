{
 "cells": [
  {
   "cell_type": "code",
   "execution_count": null,
   "id": "22e68748-860b-40e4-80fd-bc099319f2a5",
   "metadata": {
    "tags": []
   },
   "outputs": [],
   "source": [
    "import numpy as np\n",
    "import pandas as pd\n",
    "import matplotlib.pyplot as plt\n",
    "import seaborn as sns\n",
    "\n",
    "from matplotlib import style\n",
    "style.use('ggplot')\n",
    "\n",
    "import warnings\n",
    "warnings.filterwarnings('ignore')"
   ]
  },
  {
   "cell_type": "code",
   "execution_count": null,
   "id": "b6b9594c-0e36-4616-a2c9-d250526c2206",
   "metadata": {
    "tags": []
   },
   "outputs": [],
   "source": [
    "data = pd.read_csv('insurance.csv')\n",
    "data"
   ]
  },
  {
   "cell_type": "code",
   "execution_count": null,
   "id": "77f0cb1e-a9ac-404b-be90-cba445ffb289",
   "metadata": {
    "tags": []
   },
   "outputs": [],
   "source": [
    "data.info()"
   ]
  },
  {
   "cell_type": "code",
   "execution_count": null,
   "id": "815791d3-700a-4d7f-9d1d-6f6655a5c830",
   "metadata": {
    "tags": []
   },
   "outputs": [],
   "source": [
    "data.nunique()"
   ]
  },
  {
   "cell_type": "code",
   "execution_count": null,
   "id": "d1815e43-bc16-4bcb-b275-4ac74281a12a",
   "metadata": {
    "tags": []
   },
   "outputs": [],
   "source": [
    "print(\"children : \",data['children'].unique())\n",
    "print(\"region  : \",data['region'].unique())\n",
    "print(\"age  : \",data['age'].unique())"
   ]
  },
  {
   "cell_type": "code",
   "execution_count": null,
   "id": "6ce8b918-22f6-4b00-b1b0-18f871babb0e",
   "metadata": {
    "tags": []
   },
   "outputs": [],
   "source": [
    "data.duplicated().sum()"
   ]
  },
  {
   "cell_type": "code",
   "execution_count": null,
   "id": "88580e44-6a75-48cc-a197-ca0ed6ec7823",
   "metadata": {
    "tags": []
   },
   "outputs": [],
   "source": [
    "data.drop_duplicates()"
   ]
  },
  {
   "cell_type": "code",
   "execution_count": null,
   "id": "80dfdfee-4c22-4064-ad66-1efefe78b22a",
   "metadata": {
    "tags": []
   },
   "outputs": [],
   "source": [
    "data.isnull().sum()"
   ]
  },
  {
   "cell_type": "code",
   "execution_count": null,
   "id": "3d0b1c4c-52d1-49c1-9b0f-5373402693b0",
   "metadata": {
    "tags": []
   },
   "outputs": [],
   "source": [
    "plt.figure(figsize = (15,5) , dpi = 90)\n",
    "sns.countplot(data = data , x = data['region'] )"
   ]
  },
  {
   "cell_type": "code",
   "execution_count": null,
   "id": "ae00db8f-61d5-47ef-80ee-af7534f84a04",
   "metadata": {
    "tags": []
   },
   "outputs": [],
   "source": [
    "plt.figure(figsize = (15,11), dpi = 90)\n",
    "sns.countplot(data=data, x='age', hue='sex')\n",
    "plt.show()"
   ]
  },
  {
   "cell_type": "code",
   "execution_count": null,
   "id": "43048734-17f0-4798-8234-3e0e82450cdd",
   "metadata": {
    "tags": []
   },
   "outputs": [],
   "source": [
    "plt.figure(figsize = (15,5), dpi = 90)\n",
    "sns.countplot(data=data, x='smoker', hue='sex')\n",
    "plt.show()"
   ]
  },
  {
   "cell_type": "code",
   "execution_count": null,
   "id": "7a942dad-a69e-4dc1-95e9-323166ed175e",
   "metadata": {
    "tags": []
   },
   "outputs": [],
   "source": [
    "plt.figure(figsize = (15,5), dpi = 90)\n",
    "sns.boxplot(data = data , x = data['smoker'] , y = data['charges'])"
   ]
  },
  {
   "cell_type": "code",
   "execution_count": null,
   "id": "a9737a90-cd46-4a26-967e-290f6015111f",
   "metadata": {
    "tags": []
   },
   "outputs": [],
   "source": [
    "plt.figure(figsize = (15,5), dpi = 90)\n",
    "sns.barplot(data = data , x = data['smoker'] , y = data['charges'])"
   ]
  },
  {
   "cell_type": "code",
   "execution_count": null,
   "id": "d7c8addb-1747-4be9-9f08-d0df78ed9d8e",
   "metadata": {
    "tags": []
   },
   "outputs": [],
   "source": [
    "plt.figure(figsize = (15,5), dpi = 90)\n",
    "sns.distplot(data['bmi'])"
   ]
  },
  {
   "cell_type": "code",
   "execution_count": null,
   "id": "016158ff-95dd-4959-8d55-773da76b4cf0",
   "metadata": {
    "tags": []
   },
   "outputs": [],
   "source": [
    "plt.figure(figsize = (15,5), dpi = 90)\n",
    "sns.scatterplot(data = data , x = data['charges'] , y = data['bmi'])"
   ]
  },
  {
   "cell_type": "code",
   "execution_count": null,
   "id": "5411a99b-af69-4840-a29e-3b436cdbdf35",
   "metadata": {
    "tags": []
   },
   "outputs": [],
   "source": [
    "plt.figure(figsize = (15,5), dpi = 90)\n",
    "sns.lineplot(data = data , x = data['bmi'] , y = data['charges'] , hue = data['smoker'])"
   ]
  },
  {
   "cell_type": "code",
   "execution_count": null,
   "id": "0b3299ff-9409-493f-b964-1ffc962f60f7",
   "metadata": {
    "tags": []
   },
   "outputs": [],
   "source": [
    "sex_mapping = {'male': 0, 'female': 1}\n",
    "data['sex'] = data['sex'].replace(sex_mapping)"
   ]
  },
  {
   "cell_type": "code",
   "execution_count": null,
   "id": "aec5861b-7fa6-4872-ab54-06962e56c1b4",
   "metadata": {
    "tags": []
   },
   "outputs": [],
   "source": [
    "data['smoker'] = data['smoker'].map({'yes' : 1 , 'no' : 0})"
   ]
  },
  {
   "cell_type": "code",
   "execution_count": null,
   "id": "fbdd5446-1cff-438e-99ea-673f62a3fb5a",
   "metadata": {
    "tags": []
   },
   "outputs": [],
   "source": [
    "data.drop('region' ,axis = 1 , inplace = True)"
   ]
  },
  {
   "cell_type": "code",
   "execution_count": null,
   "id": "f7004abd-cd68-4f2e-8985-997ef3f352af",
   "metadata": {
    "tags": []
   },
   "outputs": [],
   "source": [
    "data.head()"
   ]
  },
  {
   "cell_type": "code",
   "execution_count": null,
   "id": "b16fd372-8e0e-4432-8b8d-36ae02ea52cb",
   "metadata": {
    "tags": []
   },
   "outputs": [],
   "source": [
    "plt.figure(figsize = (15,5), dpi = 90)\n",
    "sns.heatmap(data.corr(), annot = True)"
   ]
  },
  {
   "cell_type": "code",
   "execution_count": null,
   "id": "2af5c2f3-d220-4593-9e7d-8073b8b69054",
   "metadata": {
    "tags": []
   },
   "outputs": [],
   "source": [
    "X = data.iloc[:,:-1].values\n",
    "Y = data.iloc[:,-1].values"
   ]
  },
  {
   "cell_type": "code",
   "execution_count": null,
   "id": "4a086d5e-14b2-48a7-984e-9d1b6af8fdca",
   "metadata": {},
   "outputs": [],
   "source": [
    "X"
   ]
  },
  {
   "cell_type": "code",
   "execution_count": null,
   "id": "21a65246-799e-4363-9dd1-fd9a874eaa6b",
   "metadata": {
    "tags": []
   },
   "outputs": [],
   "source": [
    "Y"
   ]
  },
  {
   "cell_type": "code",
   "execution_count": null,
   "id": "140604a5-03df-4540-b47d-b71444d43725",
   "metadata": {
    "tags": []
   },
   "outputs": [],
   "source": [
    "print('Independent Feature Set Shape : ', X.shape)\n",
    "print('Dependent Feature Shape       : ', Y.shape)"
   ]
  },
  {
   "cell_type": "code",
   "execution_count": null,
   "id": "e2cc17aa-4f64-4f2a-869d-4c1be191ebc6",
   "metadata": {
    "tags": []
   },
   "outputs": [],
   "source": [
    "from sklearn.model_selection import train_test_split\n",
    "x_train, x_test, y_train, y_test = train_test_split(X, Y, test_size = 0.2, random_state = 1)"
   ]
  },
  {
   "cell_type": "code",
   "execution_count": null,
   "id": "a79d1478-4652-43a6-982f-fd6be520bda0",
   "metadata": {
    "tags": []
   },
   "outputs": [],
   "source": [
    "print('Training data shape   : ', x_train.shape)\n",
    "print('Training labels shape : ', y_train.shape)\n",
    "print('Testing data shape    : ', x_test.shape)\n",
    "print('Testing labels shape  : ', y_test.shape)"
   ]
  },
  {
   "cell_type": "code",
   "execution_count": null,
   "id": "26d53755-7cf2-4bb1-8009-c9b50f4b842e",
   "metadata": {
    "tags": []
   },
   "outputs": [],
   "source": [
    "from sklearn.preprocessing import MinMaxScaler\n",
    "scaler = MinMaxScaler()\n",
    "scaler.fit(x_train)"
   ]
  },
  {
   "cell_type": "code",
   "execution_count": null,
   "id": "9cee4a8a-3e8d-46ff-b6db-ad0b5898fa97",
   "metadata": {
    "tags": []
   },
   "outputs": [],
   "source": [
    "x_train = scaler.transform(x_train)\n",
    "x_test = scaler.transform(x_test)"
   ]
  },
  {
   "cell_type": "code",
   "execution_count": null,
   "id": "a3734a15-dbed-40f9-be1a-aac80387e003",
   "metadata": {
    "tags": []
   },
   "outputs": [],
   "source": [
    "print(x_train.shape)"
   ]
  },
  {
   "cell_type": "code",
   "execution_count": null,
   "id": "4d9cf795-db9f-48b5-a1df-8a61028f819e",
   "metadata": {
    "tags": []
   },
   "outputs": [],
   "source": [
    "print(x_test)"
   ]
  },
  {
   "cell_type": "code",
   "execution_count": null,
   "id": "8ed03be4-efe9-4a68-bd96-5da78bb75ef5",
   "metadata": {
    "tags": []
   },
   "outputs": [],
   "source": [
    "from sklearn.linear_model import LinearRegression\n",
    "regressor = LinearRegression()\n",
    "regressor.fit(x_train, y_train)"
   ]
  },
  {
   "cell_type": "code",
   "execution_count": null,
   "id": "35b53c94-1874-48ec-997a-0262e98a99a0",
   "metadata": {
    "tags": []
   },
   "outputs": [],
   "source": [
    "regressor.predict(x_test[0:5])"
   ]
  },
  {
   "cell_type": "code",
   "execution_count": null,
   "id": "cf702bae-4f65-4610-9452-022c4ee07612",
   "metadata": {
    "tags": []
   },
   "outputs": [],
   "source": [
    "pred_train = regressor.predict(x_train)\n",
    "pred_test  = regressor.predict(x_test)"
   ]
  },
  {
   "cell_type": "code",
   "execution_count": null,
   "id": "46af03fa-7c20-432f-8334-c8923c22f79c",
   "metadata": {
    "tags": []
   },
   "outputs": [],
   "source": [
    "from sklearn.metrics import mean_absolute_error\n",
    "mean_absolute_error(y_test, pred_test)"
   ]
  },
  {
   "cell_type": "code",
   "execution_count": null,
   "id": "3730d64c-e6d6-441c-a42e-81adf9f7380d",
   "metadata": {
    "tags": []
   },
   "outputs": [],
   "source": [
    "from sklearn.metrics import r2_score\n",
    "print('Training Set Score : ', r2_score(y_train, pred_train))\n",
    "print('Testing Set Score  : ', r2_score(y_test, pred_test))"
   ]
  },
  {
   "cell_type": "code",
   "execution_count": null,
   "id": "862fd228-d2eb-4535-9fc8-04e8d63858dd",
   "metadata": {},
   "outputs": [],
   "source": [
    "import pickle\n",
    "pick_op = open(\"regressor\",\"wb\")\n",
    "pick_op.dump(regressor,pick_op)\n",
    "pick_op.close()"
   ]
  },
  {
   "cell_type": "code",
   "execution_count": null,
   "id": "b8152d8a-22a4-43ab-b509-df763f792af5",
   "metadata": {},
   "outputs": [],
   "source": [
    "import pickle\n",
    "\n",
    "# Open a file for writing in binary mode\n",
    "with open(\"regressor\", \"wb\") as pick_op:\n",
    "    # Use pickle's dump method to serialize the object\n",
    "    pickle.dump(regressor, pick_op)\n"
   ]
  },
  {
   "cell_type": "code",
   "execution_count": null,
   "id": "06a7c479-f1c1-43c0-8956-6181ffe65dd6",
   "metadata": {},
   "outputs": [],
   "source": []
  }
 ],
 "metadata": {
  "kernelspec": {
   "display_name": "Python 3 (ipykernel)",
   "language": "python",
   "name": "python3"
  },
  "language_info": {
   "codemirror_mode": {
    "name": "ipython",
    "version": 3
   },
   "file_extension": ".py",
   "mimetype": "text/x-python",
   "name": "python",
   "nbconvert_exporter": "python",
   "pygments_lexer": "ipython3",
   "version": "3.12.4"
  }
 },
 "nbformat": 4,
 "nbformat_minor": 5
}
